{
 "cells": [
  {
   "cell_type": "code",
   "execution_count": 1,
   "id": "214529b9",
   "metadata": {},
   "outputs": [],
   "source": [
    "from book.models import Book\n",
    "from datetime import datetime\n",
    "from book import db, create_app\n",
    "\n",
    "app = create_app()"
   ]
  },
  {
   "cell_type": "code",
   "execution_count": 3,
   "id": "dd963f6d",
   "metadata": {},
   "outputs": [],
   "source": [
    "# create\n",
    "\n",
    "with app.app_context():\n",
    "    for i in range(300):\n",
    "        book = Book(title='Book title[%03d]' % i, author = 'author%d' % i, price = 25000, created=datetime.now())  \n",
    "        db.session.add(book)\n",
    "    db.session.commit()"
   ]
  },
  {
   "cell_type": "code",
   "execution_count": null,
   "id": "4efdae13",
   "metadata": {},
   "outputs": [],
   "source": []
  }
 ],
 "metadata": {
  "kernelspec": {
   "display_name": "venv",
   "language": "python",
   "name": "python3"
  },
  "language_info": {
   "codemirror_mode": {
    "name": "ipython",
    "version": 3
   },
   "file_extension": ".py",
   "mimetype": "text/x-python",
   "name": "python",
   "nbconvert_exporter": "python",
   "pygments_lexer": "ipython3",
   "version": "3.13.3"
  }
 },
 "nbformat": 4,
 "nbformat_minor": 5
}
