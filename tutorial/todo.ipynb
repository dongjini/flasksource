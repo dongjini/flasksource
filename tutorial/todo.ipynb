{
 "cells": [
  {
   "cell_type": "code",
   "execution_count": 17,
   "id": "03bec747",
   "metadata": {},
   "outputs": [],
   "source": [
    "from todo.models import Todo\n",
    "from datetime import datetime\n",
    "from todo import db, create_app\n",
    "\n",
    "app = create_app()"
   ]
  },
  {
   "cell_type": "code",
   "execution_count": 18,
   "id": "d479994f",
   "metadata": {},
   "outputs": [],
   "source": [
    "# create\n",
    "\n",
    "\n",
    "with app.app_context():\n",
    "    # todo 객체 생성\n",
    "    todo = Todo(title='flask study', description='flask study', created=datetime.now())  \n",
    "    db.session.add(todo)\n",
    "    db.session.commit()"
   ]
  },
  {
   "cell_type": "code",
   "execution_count": 20,
   "id": "0d900e26",
   "metadata": {},
   "outputs": [
    {
     "name": "stdout",
     "output_type": "stream",
     "text": [
      "<Todo 1>\n",
      "<Todo 2>\n",
      "<Todo 3>\n",
      "<Todo 4>\n",
      "<Todo 5>\n",
      "<Todo 6>\n",
      "<Todo 7>\n",
      "<Todo 8>\n",
      "<Todo 9>\n",
      "<Todo 10>\n",
      "<Todo 11>\n",
      "<Todo 12>\n"
     ]
    }
   ],
   "source": [
    "# read\n",
    "\n",
    "with app.app_context():\n",
    "    todos = Todo.query.all()\n",
    "    for todo in todos:\n",
    "        print(todo)"
   ]
  },
  {
   "cell_type": "code",
   "execution_count": 22,
   "id": "75e163f2",
   "metadata": {},
   "outputs": [
    {
     "name": "stdout",
     "output_type": "stream",
     "text": [
      "<bound method Query.all of <flask_sqlalchemy.query.Query object at 0x0000021A61A24AA0>>\n"
     ]
    }
   ],
   "source": [
    "# read\n",
    "\n",
    "with app.app_context():\n",
    "    todo = Todo.query.filter(Todo.id == 1).all\n",
    "    print(todo)"
   ]
  },
  {
   "cell_type": "code",
   "execution_count": 26,
   "id": "ee46fcb2",
   "metadata": {},
   "outputs": [
    {
     "name": "stdout",
     "output_type": "stream",
     "text": [
      "<Todo 1>\n"
     ]
    }
   ],
   "source": [
    "with app.app_context():\n",
    "    # todo = Todo.query.get(1)\n",
    "    todo = db.session.get(Todo, 1)\n",
    "    print(todo)"
   ]
  },
  {
   "cell_type": "code",
   "execution_count": 27,
   "id": "b85c50da",
   "metadata": {},
   "outputs": [],
   "source": [
    "# update \n",
    "with app.app_context():\n",
    "    todo = db.session.get(Todo, 1)\n",
    "\n",
    "    if todo:\n",
    "        todo.title = '강아지 산책'\n",
    "        db.session.commit()"
   ]
  },
  {
   "cell_type": "code",
   "execution_count": 29,
   "id": "557f8a03",
   "metadata": {},
   "outputs": [],
   "source": [
    "# delete\n",
    "\n",
    "with app.app_context():\n",
    "    todo = db.session.get(Todo, 11)\n",
    "    db.session.delete(todo)\n",
    "    db.session.commit()\n"
   ]
  },
  {
   "cell_type": "code",
   "execution_count": null,
   "id": "7da6ad82",
   "metadata": {},
   "outputs": [],
   "source": []
  }
 ],
 "metadata": {
  "kernelspec": {
   "display_name": "venv",
   "language": "python",
   "name": "python3"
  },
  "language_info": {
   "codemirror_mode": {
    "name": "ipython",
    "version": 3
   },
   "file_extension": ".py",
   "mimetype": "text/x-python",
   "name": "python",
   "nbconvert_exporter": "python",
   "pygments_lexer": "ipython3",
   "version": "3.13.3"
  }
 },
 "nbformat": 4,
 "nbformat_minor": 5
}
